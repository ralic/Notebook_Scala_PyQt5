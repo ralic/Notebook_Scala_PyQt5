{
 "cells": [
  {
   "cell_type": "markdown",
   "metadata": {},
   "source": [
    "# Reference \n",
    "\n",
    "http://pyqt.sourceforge.net/Docs/PyQt5/index.html#\n",
    "\n",
    "## GUI Programming\n",
    "\n",
    "\n",
    "http://zetcode.com/gui/pyqt5/"
   ]
  },
  {
   "cell_type": "code",
   "execution_count": 7,
   "metadata": {
    "collapsed": true
   },
   "outputs": [],
   "source": [
    "import sys\n",
    "from PyQt5 import QtGui, QtCore, QtWidgets\n",
    "\n",
    "from PyQt5.QtCore import *\n",
    "from PyQt5.QtGui import *\n",
    "from PyQt5.QtWidgets import *\n",
    "##QMainWindow, QApplication, QApplication, QWidget, QDialog, QAction, qApp"
   ]
  },
  {
   "cell_type": "code",
   "execution_count": 8,
   "metadata": {},
   "outputs": [
    {
     "ename": "AttributeError",
     "evalue": "'Ui_MainWindow' object has no attribute 'setCentralWidget'",
     "output_type": "error",
     "traceback": [
      "\u001b[0;31m---------------------------------------------------------------------------\u001b[0m",
      "\u001b[0;31mAttributeError\u001b[0m                            Traceback (most recent call last)",
      "\u001b[0;32m<ipython-input-8-384255ef00ce>\u001b[0m in \u001b[0;36m<module>\u001b[0;34m()\u001b[0m\n\u001b[1;32m     79\u001b[0m \u001b[0;32mif\u001b[0m \u001b[0m__name__\u001b[0m \u001b[0;34m==\u001b[0m \u001b[0;34m\"__main__\"\u001b[0m\u001b[0;34m:\u001b[0m\u001b[0;34m\u001b[0m\u001b[0m\n\u001b[1;32m     80\u001b[0m     \u001b[0mapp\u001b[0m \u001b[0;34m=\u001b[0m \u001b[0mQtWidgets\u001b[0m\u001b[0;34m.\u001b[0m\u001b[0mQApplication\u001b[0m\u001b[0;34m(\u001b[0m\u001b[0msys\u001b[0m\u001b[0;34m.\u001b[0m\u001b[0margv\u001b[0m\u001b[0;34m)\u001b[0m\u001b[0;34m\u001b[0m\u001b[0m\n\u001b[0;32m---> 81\u001b[0;31m     \u001b[0mex\u001b[0m \u001b[0;34m=\u001b[0m \u001b[0mUi_MainWindow\u001b[0m\u001b[0;34m(\u001b[0m\u001b[0;34m)\u001b[0m\u001b[0;34m\u001b[0m\u001b[0m\n\u001b[0m\u001b[1;32m     82\u001b[0m     \u001b[0mex\u001b[0m\u001b[0;34m.\u001b[0m\u001b[0mshow\u001b[0m\u001b[0;34m(\u001b[0m\u001b[0;34m)\u001b[0m\u001b[0;34m\u001b[0m\u001b[0m\n\u001b[1;32m     83\u001b[0m     \u001b[0msys\u001b[0m\u001b[0;34m.\u001b[0m\u001b[0mexit\u001b[0m\u001b[0;34m(\u001b[0m\u001b[0mapp\u001b[0m\u001b[0;34m.\u001b[0m\u001b[0mexec_\u001b[0m\u001b[0;34m(\u001b[0m\u001b[0;34m)\u001b[0m\u001b[0;34m)\u001b[0m\u001b[0;34m\u001b[0m\u001b[0m\n",
      "\u001b[0;32m<ipython-input-8-384255ef00ce>\u001b[0m in \u001b[0;36m__init__\u001b[0;34m(self)\u001b[0m\n\u001b[1;32m     11\u001b[0m     \u001b[0;32mdef\u001b[0m \u001b[0m__init__\u001b[0m\u001b[0;34m(\u001b[0m\u001b[0mself\u001b[0m\u001b[0;34m)\u001b[0m\u001b[0;34m:\u001b[0m\u001b[0;34m\u001b[0m\u001b[0m\n\u001b[1;32m     12\u001b[0m         \u001b[0mQtWidgets\u001b[0m\u001b[0;34m.\u001b[0m\u001b[0mQWidget\u001b[0m\u001b[0;34m.\u001b[0m\u001b[0m__init__\u001b[0m\u001b[0;34m(\u001b[0m\u001b[0mself\u001b[0m\u001b[0;34m)\u001b[0m\u001b[0;34m\u001b[0m\u001b[0m\n\u001b[0;32m---> 13\u001b[0;31m         \u001b[0mself\u001b[0m\u001b[0;34m.\u001b[0m\u001b[0msetupUi\u001b[0m\u001b[0;34m(\u001b[0m\u001b[0mself\u001b[0m\u001b[0;34m)\u001b[0m\u001b[0;34m\u001b[0m\u001b[0m\n\u001b[0m\u001b[1;32m     14\u001b[0m \u001b[0;34m\u001b[0m\u001b[0m\n\u001b[1;32m     15\u001b[0m     \u001b[0;32mdef\u001b[0m \u001b[0msetupUi\u001b[0m\u001b[0;34m(\u001b[0m\u001b[0mself\u001b[0m\u001b[0;34m,\u001b[0m \u001b[0mMainWindow\u001b[0m\u001b[0;34m)\u001b[0m\u001b[0;34m:\u001b[0m\u001b[0;34m\u001b[0m\u001b[0m\n",
      "\u001b[0;32m<ipython-input-8-384255ef00ce>\u001b[0m in \u001b[0;36msetupUi\u001b[0;34m(self, MainWindow)\u001b[0m\n\u001b[1;32m     50\u001b[0m         \u001b[0mself\u001b[0m\u001b[0;34m.\u001b[0m\u001b[0mgridLayout\u001b[0m\u001b[0;34m.\u001b[0m\u001b[0maddWidget\u001b[0m\u001b[0;34m(\u001b[0m\u001b[0mself\u001b[0m\u001b[0;34m.\u001b[0m\u001b[0mlabel_2\u001b[0m\u001b[0;34m,\u001b[0m \u001b[0;36m2\u001b[0m\u001b[0;34m,\u001b[0m \u001b[0;36m0\u001b[0m\u001b[0;34m,\u001b[0m \u001b[0;36m1\u001b[0m\u001b[0;34m,\u001b[0m \u001b[0;36m1\u001b[0m\u001b[0;34m)\u001b[0m\u001b[0;34m\u001b[0m\u001b[0m\n\u001b[1;32m     51\u001b[0m         \u001b[0mself\u001b[0m\u001b[0;34m.\u001b[0m\u001b[0mverticalLayout\u001b[0m\u001b[0;34m.\u001b[0m\u001b[0maddLayout\u001b[0m\u001b[0;34m(\u001b[0m\u001b[0mself\u001b[0m\u001b[0;34m.\u001b[0m\u001b[0mgridLayout\u001b[0m\u001b[0;34m)\u001b[0m\u001b[0;34m\u001b[0m\u001b[0m\n\u001b[0;32m---> 52\u001b[0;31m         \u001b[0mMainWindow\u001b[0m\u001b[0;34m.\u001b[0m\u001b[0msetCentralWidget\u001b[0m\u001b[0;34m(\u001b[0m\u001b[0mself\u001b[0m\u001b[0;34m.\u001b[0m\u001b[0mcentralwidget\u001b[0m\u001b[0;34m)\u001b[0m\u001b[0;34m\u001b[0m\u001b[0m\n\u001b[0m\u001b[1;32m     53\u001b[0m         \u001b[0mself\u001b[0m\u001b[0;34m.\u001b[0m\u001b[0mmenubar\u001b[0m \u001b[0;34m=\u001b[0m \u001b[0mQtWidgets\u001b[0m\u001b[0;34m.\u001b[0m\u001b[0mQMenuBar\u001b[0m\u001b[0;34m(\u001b[0m\u001b[0mMainWindow\u001b[0m\u001b[0;34m)\u001b[0m\u001b[0;34m\u001b[0m\u001b[0m\n\u001b[1;32m     54\u001b[0m         \u001b[0mself\u001b[0m\u001b[0;34m.\u001b[0m\u001b[0mmenubar\u001b[0m\u001b[0;34m.\u001b[0m\u001b[0msetGeometry\u001b[0m\u001b[0;34m(\u001b[0m\u001b[0mQtCore\u001b[0m\u001b[0;34m.\u001b[0m\u001b[0mQRect\u001b[0m\u001b[0;34m(\u001b[0m\u001b[0;36m0\u001b[0m\u001b[0;34m,\u001b[0m \u001b[0;36m0\u001b[0m\u001b[0;34m,\u001b[0m \u001b[0;36m387\u001b[0m\u001b[0;34m,\u001b[0m \u001b[0;36m21\u001b[0m\u001b[0;34m)\u001b[0m\u001b[0;34m)\u001b[0m\u001b[0;34m\u001b[0m\u001b[0m\n",
      "\u001b[0;31mAttributeError\u001b[0m: 'Ui_MainWindow' object has no attribute 'setCentralWidget'"
     ]
    }
   ],
   "source": [
    "# -*- coding: utf-8 -*-\n",
    "\n",
    "# Form implementation generated from reading ui file 'Main_Menu.ui'\n",
    "#\n",
    "# Created by: PyQt5 UI code generator 5.5.1\n",
    "#\n",
    "# WARNING! All changes made in this file will be lost!\n",
    "\n",
    "\n",
    "class Ui_MainWindow(QtWidgets.QWidget):\n",
    "    def __init__(self):\n",
    "        QtWidgets.QWidget.__init__(self)\n",
    "        self.setupUi(self)\n",
    "\n",
    "    def setupUi(self, MainWindow):\n",
    "        MainWindow.setObjectName(\"MainWindow\")\n",
    "        MainWindow.resize(387, 317)\n",
    "        icon = QtGui.QIcon()\n",
    "        icon.addPixmap(QtGui.QPixmap(\"icon-96-xhdpi.png\"), QtGui.QIcon.Normal, QtGui.QIcon.Off)\n",
    "        MainWindow.setWindowIcon(icon)\n",
    "        self.centralwidget = QtWidgets.QWidget(MainWindow)\n",
    "        self.centralwidget.setObjectName(\"centralwidget\")\n",
    "        self.verticalLayout = QtWidgets.QVBoxLayout(self.centralwidget)\n",
    "        self.verticalLayout.setObjectName(\"verticalLayout\")\n",
    "        self.gridLayout = QtWidgets.QGridLayout()\n",
    "        self.gridLayout.setObjectName(\"gridLayout\")\n",
    "        self.ButtonRemove = QtWidgets.QPushButton(self.centralwidget)\n",
    "        self.ButtonRemove.setObjectName(\"ButtonRemove\")\n",
    "        self.gridLayout.addWidget(self.ButtonRemove, 10, 0, 1, 1)\n",
    "        self.ButtonShowAll = QtWidgets.QPushButton(self.centralwidget)\n",
    "        self.ButtonShowAll.setObjectName(\"ButtonShowAll\")\n",
    "        self.gridLayout.addWidget(self.ButtonShowAll, 7, 0, 1, 1)\n",
    "        self.ButtonShowSpecific = QtWidgets.QPushButton(self.centralwidget)\n",
    "        self.ButtonShowSpecific.setObjectName(\"ButtonShowSpecific\")\n",
    "        self.gridLayout.addWidget(self.ButtonShowSpecific, 8, 0, 1, 1)\n",
    "        self.Text = QtWidgets.QLabel(self.centralwidget)\n",
    "        self.Text.setObjectName(\"Text\")\n",
    "        self.gridLayout.addWidget(self.Text, 1, 0, 1, 1)\n",
    "        self.label = QtWidgets.QLabel(self.centralwidget)\n",
    "        self.label.setObjectName(\"label\")\n",
    "        self.gridLayout.addWidget(self.label, 3, 0, 1, 1)\n",
    "        self.ButtonAdd = QtWidgets.QPushButton(self.centralwidget)\n",
    "        self.ButtonAdd.setObjectName(\"ButtonAdd\")\n",
    "        self.gridLayout.addWidget(self.ButtonAdd, 9, 0, 1, 1)\n",
    "        self.ButtonExit = QtWidgets.QPushButton(self.centralwidget)\n",
    "        self.ButtonExit.setObjectName(\"ButtonExit\")\n",
    "        self.gridLayout.addWidget(self.ButtonExit, 4, 0, 1, 1)\n",
    "        self.label_2 = QtWidgets.QLabel(self.centralwidget)\n",
    "        self.label_2.setObjectName(\"label_2\")\n",
    "        self.gridLayout.addWidget(self.label_2, 2, 0, 1, 1)\n",
    "        self.verticalLayout.addLayout(self.gridLayout)\n",
    "        MainWindow.setCentralWidget(self.centralwidget)\n",
    "        self.menubar = QtWidgets.QMenuBar(MainWindow)\n",
    "        self.menubar.setGeometry(QtCore.QRect(0, 0, 387, 21))\n",
    "        self.menubar.setObjectName(\"menubar\")\n",
    "        MainWindow.setMenuBar(self.menubar)\n",
    "        self.statusbar = QtWidgets.QStatusBar(MainWindow)\n",
    "        self.statusbar.setObjectName(\"statusbar\")\n",
    "        MainWindow.setStatusBar(self.statusbar)\n",
    "\n",
    "        self.retranslateUi(MainWindow)\n",
    "        QtCore.QMetaObject.connectSlotsByName(MainWindow)\n",
    "\n",
    "    def retranslateUi(self, MainWindow):\n",
    "        _translate = QtCore.QCoreApplication.translate\n",
    "        MainWindow.setWindowTitle(_translate(\"MainWindow\", \"Main Menu\"))\n",
    "        self.ButtonRemove.setText(_translate(\"MainWindow\", \"Remove an album\"))\n",
    "        self.ButtonShowAll.setText(_translate(\"MainWindow\", \"Show all registerd albums\"))\n",
    "        self.ButtonShowSpecific.setText(_translate(\"MainWindow\", \"Show a specific album\"))\n",
    "        self.Text.setText(_translate(\"MainWindow\", \"Welcome to the MusicDatabase Version 2.1-2017\"))\n",
    "        self.label.setText(_translate(\"MainWindow\", \"Please select one of the options below.\"))\n",
    "        self.ButtonAdd.setText(_translate(\"MainWindow\", \"Add an album\"))\n",
    "        self.ButtonExit.setText(_translate(\"MainWindow\", \"Exit\"))\n",
    "        self.label_2.setText(_translate(\"MainWindow\", \"Authors: N.S. Geldorp & H. Nahumury\"))\n",
    "        self.ButtonExit.clicked.connect(self.ButtonExit)\n",
    "\n",
    "    def ButtonExit(self):\n",
    "        exit()\n",
    "if __name__ == \"__main__\":\n",
    "    app = QtWidgets.QApplication(sys.argv)\n",
    "    ex = Ui_MainWindow()\n",
    "    ex.show()\n",
    "    sys.exit(app.exec_())"
   ]
  },
  {
   "cell_type": "code",
   "execution_count": null,
   "metadata": {
    "collapsed": true
   },
   "outputs": [],
   "source": []
  }
 ],
 "metadata": {
  "kernelspec": {
   "display_name": "Python 3",
   "language": "python",
   "name": "python3"
  },
  "language_info": {
   "codemirror_mode": {
    "name": "ipython",
    "version": 3
   },
   "file_extension": ".py",
   "mimetype": "text/x-python",
   "name": "python",
   "nbconvert_exporter": "python",
   "pygments_lexer": "ipython3",
   "version": "3.6.1"
  }
 },
 "nbformat": 4,
 "nbformat_minor": 2
}
