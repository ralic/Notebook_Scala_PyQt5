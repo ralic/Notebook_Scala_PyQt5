{
 "cells": [
  {
   "cell_type": "markdown",
   "metadata": {},
   "source": [
    "# Reference \n",
    "\n",
    "http://pyqt.sourceforge.net/Docs/PyQt5/index.html#\n",
    "\n",
    "## GUI Programming\n",
    "\n",
    "\n",
    "http://zetcode.com/gui/pyqt5/"
   ]
  },
  {
   "cell_type": "code",
   "execution_count": 1,
   "metadata": {
    "collapsed": true
   },
   "outputs": [],
   "source": [
    "import sys\n",
    "import PyQt5\n",
    "from PyQt5 import QtGui, QtCore\n",
    "from PyQt5.QtCore import *\n",
    "from PyQt5.QtGui import *\n",
    "from PyQt5.QtWidgets import QMainWindow, QApplication, QApplication, QWidget, QDialog, QAction, qApp"
   ]
  },
  {
   "cell_type": "code",
   "execution_count": 2,
   "metadata": {},
   "outputs": [
    {
     "ename": "SystemExit",
     "evalue": "0",
     "output_type": "error",
     "traceback": [
      "An exception has occurred, use %tb to see the full traceback.\n",
      "\u001b[0;31mSystemExit\u001b[0m\u001b[0;31m:\u001b[0m 0\n"
     ]
    },
    {
     "name": "stderr",
     "output_type": "stream",
     "text": [
      "/usr/local/lib/python3.6/site-packages/IPython/core/interactiveshell.py:2889: UserWarning: To exit: use 'exit', 'quit', or Ctrl-D.\n",
      "  warn(\"To exit: use 'exit', 'quit', or Ctrl-D.\", stacklevel=1)\n"
     ]
    }
   ],
   "source": [
    "#!/usr/bin/python3\n",
    "# -*- coding: utf-8 -*-\n",
    "\n",
    "class Example(QMainWindow):\n",
    "    \n",
    "    def __init__(self):\n",
    "        super().__init__()\n",
    "        \n",
    "        self.initUI()\n",
    "        \n",
    "        \n",
    "    def initUI(self):               \n",
    "        \n",
    "\n",
    "        \n",
    "        self.show()\n",
    "        \n",
    "\n",
    "class tooldemo(QMainWindow):\n",
    "    def __init__(self, parent = None):\n",
    "        super(tooldemo, self).__init__(parent)\n",
    "        layout = PyQt5.QtWidgets.QVBoxLayout()\n",
    "        \n",
    "        ## Actionbar setup\n",
    "        exitAction = QAction(QIcon('icon-96-xhdpi.png'), 'Exit', self)\n",
    "        exitAction.setShortcut('Ctrl+Q')\n",
    "        exitAction.triggered.connect(qApp.quit)\n",
    "#         self.toolbar = self.addToolBar('Exit')\n",
    "#         self.toolbar.addAction(exitAction)\n",
    "        \n",
    "        ## Toolbar setup\n",
    "        tb = self.addToolBar(\"File\")\n",
    "        new = QAction(QIcon('UI_Assets/new.png'),\"new\",self)\n",
    "        tb.addAction(new)\n",
    "        open = QAction(QIcon('UI_Assets/open.png'),\"open\",self)\n",
    "        tb.addAction(open)\n",
    "        save = QAction(QIcon('UI_Assets/save.png'),\"save\",self)\n",
    "        tb.addAction(save)\n",
    "        tb.actionTriggered[QAction].connect(self.toolbtnpressed)\n",
    "        self.setLayout(layout)\n",
    "        \n",
    "        ## Windowbar setup\n",
    "        self.setWindowTitle('Toolbar')    \n",
    "        self.setGeometry(300, 300, 300, 200)\n",
    "        self.statusBar().showMessage('This is a tool bar demo app')\n",
    "\n",
    "        ## \n",
    "    def toolbtnpressed(self,a):\n",
    "        print(\"pressed tool button is\",a.text())\n",
    "        \n",
    "        \n",
    "if __name__ == '__main__':\n",
    "    \n",
    "    app = QApplication(sys.argv)\n",
    "    ex2 = tooldemo()\n",
    "    ex2.show()\n",
    "    sys.exit(app.exec_())"
   ]
  },
  {
   "cell_type": "code",
   "execution_count": null,
   "metadata": {
    "collapsed": true
   },
   "outputs": [],
   "source": []
  }
 ],
 "metadata": {
  "kernelspec": {
   "display_name": "Python 3",
   "language": "python",
   "name": "python3"
  },
  "language_info": {
   "codemirror_mode": {
    "name": "ipython",
    "version": 3
   },
   "file_extension": ".py",
   "mimetype": "text/x-python",
   "name": "python",
   "nbconvert_exporter": "python",
   "pygments_lexer": "ipython3",
   "version": "3.6.1"
  }
 },
 "nbformat": 4,
 "nbformat_minor": 2
}
