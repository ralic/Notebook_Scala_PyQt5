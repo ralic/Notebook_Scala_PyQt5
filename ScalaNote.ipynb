{
 "cells": [
  {
   "cell_type": "code",
   "execution_count": 1,
   "metadata": {},
   "outputs": [
    {
     "data": {
      "text/plain": [
       "defined \u001b[32mobject\u001b[39m \u001b[36mHelloWorld\u001b[39m"
      ]
     },
     "execution_count": 1,
     "metadata": {},
     "output_type": "execute_result"
    }
   ],
   "source": [
    "object HelloWorld {\n",
    "    def main(args: Array[String]) {\n",
    "      println(\"Hello, world!\" + args(0))\n",
    "      println(\"Hello, world!\" + args(1))\n",
    "      println(\"Hello, world!\" + args(2))\n",
    "    }\n",
    "  }"
   ]
  },
  {
   "cell_type": "code",
   "execution_count": 2,
   "metadata": {},
   "outputs": [
    {
     "name": "stdout",
     "output_type": "stream",
     "text": [
      "Hello, world!Zara\n",
      "Hello, world!Nuha\n",
      "Hello, world!Ayan\n"
     ]
    },
    {
     "data": {
      "text/plain": [
       "\u001b[36minputExample\u001b[39m: \u001b[32mArray\u001b[39m[\u001b[32mString\u001b[39m] = \u001b[33mArray\u001b[39m(\u001b[32m\"Zara\"\u001b[39m, \u001b[32m\"Nuha\"\u001b[39m, \u001b[32m\"Ayan\"\u001b[39m)"
      ]
     },
     "execution_count": 2,
     "metadata": {},
     "output_type": "execute_result"
    }
   ],
   "source": [
    "var inputExample:Array[String] = new Array[String](3)\n",
    "\n",
    "inputExample = Array(\"Zara\", \"Nuha\", \"Ayan\")\n",
    "\n",
    "HelloWorld.main(inputExample)"
   ]
  },
  {
   "cell_type": "code",
   "execution_count": null,
   "metadata": {
    "collapsed": true
   },
   "outputs": [],
   "source": []
  }
 ],
 "metadata": {
  "kernelspec": {
   "display_name": "Scala (develop)",
   "language": "scala",
   "name": "scala-develop"
  },
  "language_info": {
   "codemirror_mode": "text/x-scala",
   "file_extension": ".scala",
   "mimetype": "text/x-scala",
   "name": "scala212",
   "nbconvert_exporter": "script",
   "pygments_lexer": "scala",
   "version": "2.12.1"
  }
 },
 "nbformat": 4,
 "nbformat_minor": 2
}
