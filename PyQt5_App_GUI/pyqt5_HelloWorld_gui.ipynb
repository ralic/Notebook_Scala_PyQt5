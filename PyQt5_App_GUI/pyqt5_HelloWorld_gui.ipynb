{
 "cells": [
  {
   "cell_type": "code",
   "execution_count": 1,
   "metadata": {
    "collapsed": true
   },
   "outputs": [],
   "source": [
    "## Requirement on macOS\n",
    "# brew install pyqt"
   ]
  },
  {
   "cell_type": "code",
   "execution_count": 5,
   "metadata": {
    "collapsed": true
   },
   "outputs": [],
   "source": [
    "# import helloworld_gui.py"
   ]
  },
  {
   "cell_type": "code",
   "execution_count": 6,
   "metadata": {},
   "outputs": [],
   "source": [
    "import sys\n",
    "from PyQt5.QtWidgets import QApplication, QWidget \n",
    "from PyQt5 import QtGui, QtCore\n"
   ]
  },
  {
   "cell_type": "code",
   "execution_count": null,
   "metadata": {},
   "outputs": [],
   "source": [
    "#! /usr/bin/env python3\n",
    "# -*- coding: utf-8 -*-\n",
    "#\n",
    "# Here we provide the necessary imports.\n",
    "# The basic GUI widgets are located in QtGui module. \n",
    "\n",
    "# # Every PyQt4 application must create an application object.\n",
    "# # The application object is located in the QtGui module.\n",
    "a = QApplication(sys.argv)\n",
    "\n",
    "# # The QWidget widget is the base class of all user interface objects in PyQt4.\n",
    "# # We provide the default constructor for QWidget. The default constructor has no parent.\n",
    "# # A widget with no parent is called a window. \n",
    "w = QWidget()\n",
    "\n",
    "# w.resize(320, 240)  # The resize() method resizes the widget.\n",
    "w.setWindowTitle(\"Hello, World!\")  # Here we set the title for our window.\n",
    "w.show()  # The show() method displays the widget on the screen.\n",
    "w.resize(600,480)\n",
    "\n",
    "sys.exit(a.exec_())  # Finally, we enter the mainloop of the application."
   ]
  },
  {
   "cell_type": "code",
   "execution_count": null,
   "metadata": {},
   "outputs": [],
   "source": []
  },
  {
   "cell_type": "code",
   "execution_count": null,
   "metadata": {
    "collapsed": true
   },
   "outputs": [],
   "source": []
  },
  {
   "cell_type": "code",
   "execution_count": null,
   "metadata": {
    "collapsed": true
   },
   "outputs": [],
   "source": []
  }
 ],
 "metadata": {
  "kernelspec": {
   "display_name": "Python 3",
   "language": "python",
   "name": "python3"
  },
  "language_info": {
   "codemirror_mode": {
    "name": "ipython",
    "version": 3
   },
   "file_extension": ".py",
   "mimetype": "text/x-python",
   "name": "python",
   "nbconvert_exporter": "python",
   "pygments_lexer": "ipython3",
   "version": "3.6.1"
  }
 },
 "nbformat": 4,
 "nbformat_minor": 2
}
